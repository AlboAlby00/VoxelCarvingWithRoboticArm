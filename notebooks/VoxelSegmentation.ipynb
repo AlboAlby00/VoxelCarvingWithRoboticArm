{
  "nbformat": 4,
  "nbformat_minor": 0,
  "metadata": {
    "colab": {
      "provenance": []
    },
    "kernelspec": {
      "name": "python3",
      "display_name": "Python 3"
    },
    "language_info": {
      "name": "python"
    }
  },
  "cells": [
    {
      "cell_type": "code",
      "source": [
        "#!pip install open3d\n",
        "#!pip install rospkg"
      ],
      "metadata": {
        "id": "8aqnt0MGuiIr"
      },
      "execution_count": 132,
      "outputs": []
    },
    {
      "cell_type": "code",
      "source": [
        "#!unzip aruco_unedited.zip"
      ],
      "metadata": {
        "id": "zlfEIImvST9w"
      },
      "execution_count": 133,
      "outputs": []
    },
    {
      "cell_type": "code",
      "source": [
        "import numpy as np\n",
        "from PIL import Image\n",
        "from markerDetector import detect_markers, calculate_camera_pose\n",
        "import cv2 as cv\n",
        "from google.colab.patches import cv2_imshow\n",
        "from matplotlib import pyplot as plt\n",
        "import cv2.aruco as aruco\n",
        "import os\n",
        "import re"
      ],
      "metadata": {
        "id": "OQwC8Yt1Cn2X"
      },
      "execution_count": 134,
      "outputs": []
    },
    {
      "cell_type": "code",
      "source": [
        "def threshold(image, low, high, channel):\n",
        "  filtered_image = np.array(image, copy=True)\n",
        "  filtered_image[filtered_image[:, :, channel] < low] = 0\n",
        "  filtered_image[filtered_image[:, :, channel] > high] = 0\n",
        "  return filtered_image"
      ],
      "metadata": {
        "id": "pFf499rOQ60q"
      },
      "execution_count": 136,
      "outputs": []
    },
    {
      "cell_type": "code",
      "source": [
        "def cut_threshold(image, low, high, channel):\n",
        "  filtered_image = np.array(image, copy=True)\n",
        "  cut = np.array(image, copy=True)\n",
        "  filtered_image[filtered_image[:, :, channel] < low] = 0\n",
        "  filtered_image[filtered_image[:, :, channel] > high] = 0\n",
        "  cut = cut - filtered_image\n",
        "  return cut"
      ],
      "metadata": {
        "id": "ORYrh2nAQ8XZ"
      },
      "execution_count": 137,
      "outputs": []
    },
    {
      "cell_type": "code",
      "source": [
        "def cut_threshold_difference(image, channel_main, channel_2, channel_3, alpha2, alpha3, delta):\n",
        "  filtered_image = np.array(image, copy=True, dtype='int32')\n",
        "  filtered_image[:, :, channel_main] = filtered_image[:, :, channel_main] - alpha2 * filtered_image[:, :, channel_2] - alpha3 * filtered_image[:, :, channel_3] - delta\n",
        "  filtered_image[filtered_image[:, :, channel_main] < 0] = 0\n",
        "  filtered_image[:, :, channel_2] = 0\n",
        "  filtered_image[:, :, channel_3] = 0\n",
        "  filtered_image[filtered_image[:, :, channel_main] > 0] = 255\n",
        "  return np.array(filtered_image, dtype='uint8')"
      ],
      "metadata": {
        "id": "ZC4Th--8Q-ky"
      },
      "execution_count": 138,
      "outputs": []
    },
    {
      "cell_type": "code",
      "source": [
        "def make_binary(image):\n",
        "  filtered_image = np.array(image, copy=True)\n",
        "  filtered_image[filtered_image[:, :, 0] > 0] = 255\n",
        "  filtered_image[filtered_image[:, :, 1] > 0] = 255\n",
        "  filtered_image[filtered_image[:, :, 2] > 0] = 255\n",
        "  return filtered_image"
      ],
      "metadata": {
        "id": "nY6wHt1DRELW"
      },
      "execution_count": 139,
      "outputs": []
    },
    {
      "cell_type": "code",
      "source": [
        "def closest(corners, point):\n",
        "  arr1 = []\n",
        "  arr0 = []\n",
        "  min = 0\n",
        "  for i in range(len(corners)):\n",
        "    arr1.append(int(corners[i][0][0][1]))\n",
        "    arr0.append(int(corners[i][0][0][0]))\n",
        "  min_distance = np.sqrt((arr1[0] - point[1]) ** 2 + (arr0[0] - point[0]) ** 2)\n",
        "  for i in range(1, len(corners)):\n",
        "    if min_distance > np.sqrt((arr1[i] - point[1]) ** 2 + (arr0[i] - point[0]) ** 2):\n",
        "      min_distance = np.sqrt((arr1[i] - point[1]) ** 2 + (arr0[i] - point[0]) ** 2)\n",
        "      min = i\n",
        "  return min, min_distance"
      ],
      "metadata": {
        "id": "6XbtnI4wWDix"
      },
      "execution_count": 140,
      "outputs": []
    },
    {
      "cell_type": "code",
      "source": [
        "def get2D(T, K):\n",
        "  T = T.reshape((4, 4))\n",
        "  T = np.linalg.inv(T)\n",
        "  T=T[0:3,:]\n",
        "  K = K.reshape((3, 3))\n",
        "  P=K@T\n",
        "  point3D=np.array([55,25,0,1])\n",
        "  point2D=P@point3D\n",
        "  point2D[0] /= point2D[2]\n",
        "  point2D[1] /= point2D[2]\n",
        "  point2D[2] /= point2D[2]\n",
        "  return [int(point2D[0]), int(point2D[1])]"
      ],
      "metadata": {
        "id": "ogsz2uUPIMrE"
      },
      "execution_count": 141,
      "outputs": []
    },
    {
      "cell_type": "code",
      "source": [
        "def segment_circle(image, corners, point):\n",
        "  filtered_image = np.array(image, copy=True)\n",
        "  _, radius = closest(corners, point)\n",
        "  cv.circle(filtered_image, point, int(radius), (255, 255, 255), -1)\n",
        "  filtered_image[filtered_image[:, :, 0] < 255] = 0\n",
        "  filtered_image[filtered_image[:, :, 1] < 255] = 0\n",
        "  filtered_image[filtered_image[:, :, 2] < 255] = 0\n",
        "  cropped = np.array(image, copy=True)\n",
        "  cropped = cv.bitwise_and(cropped, filtered_image)\n",
        "  return cropped"
      ],
      "metadata": {
        "id": "Lh-k8GACMcn7"
      },
      "execution_count": 142,
      "outputs": []
    },
    {
      "cell_type": "code",
      "source": [
        "def get_marked_image(image, corners):\n",
        "  filtered_image = np.array(image, copy=True)\n",
        "  filtered_image[:, :, :] = 0\n",
        "  for i in range(len(corners)):\n",
        "    for j in range(1):\n",
        "      filtered_image[int(corners[i][0][j][1]), int(corners[i][0][j][0]), 0] = 255\n",
        "      filtered_image[int(corners[i][0][j][1]), int(corners[i][0][j][0]), 1] = 255\n",
        "      filtered_image[int(corners[i][0][j][1]), int(corners[i][0][j][0]), 2] = 255\n",
        "      #min = closest(corners, i)\n",
        "      for k in range(len(corners)):\n",
        "        if i != k:\n",
        "          cv.line(filtered_image,(int(corners[i][0][j][0]),int(corners[i][0][j][1])),(int(corners[k][0][j][0]),int(corners[k][0][j][1])),(255,255,255),3)\n",
        "        else:\n",
        "          i+=1\n",
        "\n",
        "  for i in range(len(filtered_image)):\n",
        "    mark1 = False\n",
        "    mark2 = False\n",
        "    index_last = 0\n",
        "    for j in range(len(filtered_image[0])):\n",
        "      if filtered_image[i][j][0] == 255 and not mark2:\n",
        "        mark1 = True\n",
        "      if filtered_image[i][j][0] == 255 and mark2:\n",
        "        mark2 = False\n",
        "        mark1 = False\n",
        "      if filtered_image[i][j][0] == 0 and mark1 and not mark2:\n",
        "        mark2 = True\n",
        "        index_last = j\n",
        "      if mark1 and mark2:\n",
        "        filtered_image[i][j][:] = 255\n",
        "    for j in range(len(filtered_image[0]) - 1, index_last, -1):\n",
        "      filtered_image[i][j][:] = 0\n",
        "\n",
        "  cropped = np.array(image, copy=True)\n",
        "  cropped = cv.bitwise_and(cropped, filtered_image)\n",
        "  return cropped"
      ],
      "metadata": {
        "id": "csJ77CAkSOjH"
      },
      "execution_count": 143,
      "outputs": []
    },
    {
      "cell_type": "code",
      "source": [
        "K = np.array([920.88464355, 0, 624.062744140625,\n",
        "    0, 924.34155273, 374.5955547,\n",
        "    0, 0, 1])\n",
        "\n",
        "poses = []\n",
        "with open('poses.txt') as f:\n",
        "  contents = f.readlines()\n",
        "  for content in contents:\n",
        "    poses.append(re.findall(r\"[-+]?\\d*\\.\\d+|\\d+\", content))\n",
        "poses = np.array(poses, dtype=float)\n",
        "\n",
        "for i in range(1, 9):\n",
        "  img_name = \"aruco_unedited/\" + \"image_\" + str(i) + \".jpeg\"\n",
        "  img = cv.imread(img_name)\n",
        "  assert img is not None, \"file could not be read, check with os.path.exists()\"\n",
        "  image, markerCorners, markerIds = detect_markers(np.array(img, copy=True))\n",
        "  img = segment_circle(img, markerCorners, get2D(poses[i - 1], K))\n",
        "  img = cv.blur(img,(5,5))\n",
        "  # Reshaping the image into a 2D array of pixels and 3 color values (RGB)\n",
        "  pixel_vals = img.reshape((-1,3))\n",
        "\n",
        "  # Convert to float type\n",
        "  pixel_vals = np.float32(pixel_vals)\n",
        "\n",
        "  criteria = (cv.TERM_CRITERIA_EPS + cv.TERM_CRITERIA_MAX_ITER, 500, 0.85)\n",
        "\n",
        "  # then perform k-means clustering with number of clusters defined as 3\n",
        "  #also random centres are initially choosed for k-means clustering\n",
        "  k = 15\n",
        "  retval, labels, centers = cv.kmeans(pixel_vals, k, None, criteria, 10, cv.KMEANS_RANDOM_CENTERS)\n",
        "\n",
        "  # convert data into 8-bit values\n",
        "  centers = np.uint8(centers)\n",
        "  segmented_data = centers[labels.flatten()]\n",
        "\n",
        "  # reshape data into the original image dimensions\n",
        "  segmented_image = segmented_data.reshape((img.shape))\n",
        "  filtered_image = np.array(segmented_image, copy=True)\n",
        "  filtered_image = cut_threshold_difference(filtered_image, 2, 1, 0, 1, 0, 50)\n",
        "  binary = make_binary(filtered_image)\n",
        "\n",
        "  im = Image.fromarray(binary).convert('L')\n",
        "  im.save(\"segmented_images/\" + 'image' + str(i) + '.png')\n",
        "  print(\"image\" + str(i) + \" done!\")\n"
      ],
      "metadata": {
        "colab": {
          "base_uri": "https://localhost:8080/"
        },
        "id": "iTC7pXVpRLXc",
        "outputId": "cd51b1e8-c37b-4d84-8978-2914ab8824cf"
      },
      "execution_count": null,
      "outputs": [
        {
          "output_type": "stream",
          "name": "stdout",
          "text": [
            "image1 done!\n",
            "image2 done!\n",
            "image3 done!\n",
            "image4 done!\n",
            "image5 done!\n",
            "image6 done!\n",
            "image7 done!\n"
          ]
        }
      ]
    },
    {
      "cell_type": "code",
      "source": [
        "import shutil\n",
        "shutil.make_archive(\"segmented_images\", 'zip', \"segmented_images\")"
      ],
      "metadata": {
        "id": "uf09thu-RXKh"
      },
      "execution_count": null,
      "outputs": []
    }
  ]
}